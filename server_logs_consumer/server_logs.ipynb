{
 "cells": [
  {
   "cell_type": "code",
   "execution_count": 1,
   "id": "1898ea7c-3644-4857-8869-695e13fd1c13",
   "metadata": {},
   "outputs": [],
   "source": [
    "from pyspark.sql import SparkSession\n",
    "import pyspark.sql.functions as F"
   ]
  },
  {
   "cell_type": "code",
   "execution_count": 2,
   "id": "ac0ebe5f-9cb1-4926-99a6-5a144f9549b8",
   "metadata": {},
   "outputs": [],
   "source": [
    "spark = SparkSession.builder.appName('StructuredStreamingKafka').getOrCreate()"
   ]
  },
  {
   "cell_type": "code",
   "execution_count": 3,
   "id": "8b4462b1-1bc8-465d-8e8e-de62b86f2c06",
   "metadata": {},
   "outputs": [],
   "source": [
    "BOOTSTRAP_SERVERS = 'confluent-local-broker-1:55748'\n",
    "TOPIC = 'server_logs'\n",
    "DB_HOST = 'aws-0-us-west-1.pooler.supabase.com'\n",
    "DB_NAME = 'postgres'\n",
    "DB_PORT = '6543'\n",
    "DB_USERNAME = 'postgres.yjajdrzerpwleueoclby'\n",
    "DB_PASSWORD = 'HelloSQL2221!' \n",
    "DB_URL = f'jdbc:postgresql://{DB_HOST}:{DB_PORT}/{DB_NAME}?prepareThreshold=0'\n",
    "DB_PROPERTIES = {'user': DB_USERNAME, 'password': DB_PASSWORD, 'driver': 'org.postgresql.Driver'}"
   ]
  },
  {
   "cell_type": "code",
   "execution_count": 4,
   "id": "ca2b7b67-8182-4c61-b958-465ea9875aab",
   "metadata": {},
   "outputs": [],
   "source": [
    "kafka_stream_df = (\n",
    "    spark.readStream\n",
    "    .format('kafka')\n",
    "    .option('kafka.bootstrap.servers', BOOTSTRAP_SERVERS)\n",
    "    .option('subscribe', TOPIC)\n",
    "    .load()\n",
    ")"
   ]
  },
  {
   "cell_type": "code",
   "execution_count": 5,
   "id": "3b0be515-6318-4e8a-ac56-8b34dca8f63a",
   "metadata": {},
   "outputs": [],
   "source": [
    "def test(df, sleep_time=5, output_mode='append'):\n",
    "    import time\n",
    "    query = df.writeStream.outputMode(output_mode).format('console').options(truncate=False).start()\n",
    "    time.sleep(sleep_time)\n",
    "    query.stop()"
   ]
  },
  {
   "cell_type": "code",
   "execution_count": 7,
   "id": "1be30b6a-1484-4851-b443-319aa6550652",
   "metadata": {},
   "outputs": [],
   "source": [
    "# parse the Kafka value\n",
    "df = kafka_stream_df.select(kafka_stream_df.value.cast('string'))\n",
    "df = df.select(F.regexp_replace(F.col('value'), r'[\\[\\]\"]', '').alias('value'))\n",
    "df = df.select(F.split(F.col('value'), ' ').alias('data'))\n",
    "df = df.select(\n",
    "    F.col('data').getItem(0).alias('ip_address'),\n",
    "    F.col('data').getItem(1).alias('user_name'),\n",
    "    F.col('data').getItem(2).cast('integer').alias('user_id'),\n",
    "    F.col('data').getItem(3).cast('timestamp').alias('timestamp'),\n",
    "    F.col('data').getItem(4).alias('http_method'),\n",
    "    F.col('data').getItem(5).alias('path'),\n",
    "    F.col('data').getItem(6).cast('integer').alias('status_code')\n",
    ")"
   ]
  },
  {
   "cell_type": "code",
   "execution_count": 8,
   "id": "e17014d3-5cea-4021-8cb3-4debac26bec0",
   "metadata": {},
   "outputs": [],
   "source": [
    "# Write to sql db\n",
    "def write_to_postgres(df, table_name: str, write_mode='append', output_mode: str = 'append'):\n",
    "    write = lambda df, epoch_id: df.write.jdbc(url=DB_URL, table=table_name, mode=write_mode, properties=DB_PROPERTIES)\n",
    "    return df.writeStream.foreachBatch(write).outputMode(output_mode).start()"
   ]
  },
  {
   "cell_type": "code",
   "execution_count": 9,
   "id": "14407d20-9523-4f47-98e0-78dedaf31421",
   "metadata": {},
   "outputs": [
    {
     "data": {
      "text/plain": [
       "<pyspark.sql.streaming.query.StreamingQuery at 0x7fd430047e10>"
      ]
     },
     "execution_count": 9,
     "metadata": {},
     "output_type": "execute_result"
    }
   ],
   "source": [
    "query = write_to_postgres(df, 'server_logs')\n",
    "query"
   ]
  },
  {
   "cell_type": "code",
   "execution_count": 10,
   "id": "3f48fe25-a7cc-400f-a2a4-6b36cba01f03",
   "metadata": {},
   "outputs": [],
   "source": [
    "query.stop()"
   ]
  },
  {
   "cell_type": "code",
   "execution_count": 25,
   "id": "07f20004-24d6-4db6-8361-881dfb31b82f",
   "metadata": {},
   "outputs": [],
   "source": [
    "# Filter and aggregate errors\n",
    "errors_df = df.filter(F.col(\"status_code\").isin(404, 500)).groupBy(\"path\").agg(\n",
    "            F.count(F.when(F.col(\"status_code\") == 404, 1)).alias(\"404_errors\"),\n",
    "            F.count(F.when(F.col(\"status_code\") == 500, 1)).alias(\"500_errors\"),\n",
    "            F.count(\"*\").alias(\"total_errors\")\n",
    "    )\n",
    "test(errors_df, output_mode='complete', sleep_time=30)"
   ]
  },
  {
   "cell_type": "code",
   "execution_count": 26,
   "id": "26f866c6-d0d0-4ae5-8564-88fa58067aab",
   "metadata": {},
   "outputs": [],
   "source": [
    "query = write_to_postgres(errors_df, 'errors_by_path', write_mode='overwrite', output_mode='complete')"
   ]
  },
  {
   "cell_type": "code",
   "execution_count": 27,
   "id": "9df9ea53-798a-477f-8d16-e0c3629f53c9",
   "metadata": {},
   "outputs": [],
   "source": [
    "query.stop()"
   ]
  },
  {
   "cell_type": "code",
   "execution_count": 13,
   "id": "234b819a-7416-4655-9e37-fe9664008ca1",
   "metadata": {},
   "outputs": [],
   "source": [
    "# Detect DOS attacks\n",
    "window_duration = '1 minute' # define window duration\n",
    "window_df = (\n",
    "    df.groupBy(F.window('timestamp', window_duration), 'ip_address')\n",
    "    .agg(F.count('ip_address').alias('count'))\n",
    "    .select(\n",
    "        F.col('window.start').alias('window_start'),\n",
    "        F.col('window.end').alias('window_end'),\n",
    "        'ip_address',\n",
    "        'count'\n",
    "    ).withColumn('dos_attack', F.col('count') > 100) # add dos attack col\n",
    "    .filter(F.col('dos_attack') == True) # filter to include only dos attacks\n",
    "    .orderBy(F.col('window_start').desc()) # sort by window time in desc order\n",
    ")\n",
    "test(window_df, output_mode=\"complete\", sleep_time=30)"
   ]
  }
 ],
 "metadata": {
  "kernelspec": {
   "display_name": "Python 3 (ipykernel)",
   "language": "python",
   "name": "python3"
  },
  "language_info": {
   "codemirror_mode": {
    "name": "ipython",
    "version": 3
   },
   "file_extension": ".py",
   "mimetype": "text/x-python",
   "name": "python",
   "nbconvert_exporter": "python",
   "pygments_lexer": "ipython3",
   "version": "3.11.6"
  }
 },
 "nbformat": 4,
 "nbformat_minor": 5
}
